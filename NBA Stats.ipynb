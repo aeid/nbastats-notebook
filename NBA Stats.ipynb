{
 "metadata": {
  "name": "",
  "signature": "sha256:37b0569f0f3aa90990e4a50cd1e323906d61fc3c44d11d63258408b74b032723"
 },
 "nbformat": 3,
 "nbformat_minor": 0,
 "worksheets": [
  {
   "cells": [
    {
     "cell_type": "code",
     "collapsed": false,
     "input": [
      "import requests\n",
      "import pandas as pd\n",
      "import numpy as np \n",
      "from bs4 import BeautifulSoup"
     ],
     "language": "python",
     "metadata": {},
     "outputs": [],
     "prompt_number": 109
    },
    {
     "cell_type": "code",
     "collapsed": false,
     "input": [
      "r = requests.get(\"http://www.hoopsstats.com/basketball/fantasy/nba/playerstats/15/1/eff\")"
     ],
     "language": "python",
     "metadata": {},
     "outputs": [],
     "prompt_number": 110
    },
    {
     "cell_type": "code",
     "collapsed": false,
     "input": [
      "soup = BeautifulSoup(r.content)"
     ],
     "language": "python",
     "metadata": {},
     "outputs": [],
     "prompt_number": 111
    },
    {
     "cell_type": "code",
     "collapsed": false,
     "input": [
      "body = soup.body.text"
     ],
     "language": "python",
     "metadata": {},
     "outputs": [],
     "prompt_number": 112
    },
    {
     "cell_type": "code",
     "collapsed": false,
     "input": [
      "bodyArray = body.rstrip().split('\\n')"
     ],
     "language": "python",
     "metadata": {},
     "outputs": [],
     "prompt_number": 113
    },
    {
     "cell_type": "code",
     "collapsed": false,
     "input": [
      "bodyArray = [x for x in bodyArray if x != '']"
     ],
     "language": "python",
     "metadata": {},
     "outputs": [],
     "prompt_number": 114
    },
    {
     "cell_type": "code",
     "collapsed": false,
     "input": [
      "startingPoint = bodyArray.index('NoPlayerGMinPtsRebAstStlBlkToPfDrebOrebFgm-aPct3gm-aPctFtm-aPcteff') + 1"
     ],
     "language": "python",
     "metadata": {},
     "outputs": [],
     "prompt_number": 115
    },
    {
     "cell_type": "code",
     "collapsed": false,
     "input": [
      "bodyArray = bodyArray[startingPoint:len(bodyArray)]"
     ],
     "language": "python",
     "metadata": {},
     "outputs": [],
     "prompt_number": 116
    },
    {
     "cell_type": "code",
     "collapsed": false,
     "input": [
      "header = [\"No\",\"Player\",\"G\",\"Min\",\"Pts\",\"Reb\",\"Ast\",\"Stl\",\"Blk\",\"To\",\"Pf\",\"Dreb\",\"Oreb\",\"Fgm-a\",\"Pct\",\"3gm-a\",\"Pct\",\"Ftm-a\",\"Pct\",\"eff\"]"
     ],
     "language": "python",
     "metadata": {},
     "outputs": [],
     "prompt_number": 117
    },
    {
     "cell_type": "code",
     "collapsed": false,
     "input": [
      "NewList = bodyArray[0:20]"
     ],
     "language": "python",
     "metadata": {},
     "outputs": [],
     "prompt_number": 118
    },
    {
     "cell_type": "code",
     "collapsed": false,
     "input": [
      "len(bodyArray)"
     ],
     "language": "python",
     "metadata": {},
     "outputs": [
      {
       "metadata": {},
       "output_type": "pyout",
       "prompt_number": 119,
       "text": [
        "2776"
       ]
      }
     ],
     "prompt_number": 119
    },
    {
     "cell_type": "code",
     "collapsed": false,
     "input": [
      "x_sublists = [bodyArray[i:i+20] for i in range(0, len(bodyArray), 20)]"
     ],
     "language": "python",
     "metadata": {},
     "outputs": [],
     "prompt_number": 158
    },
    {
     "cell_type": "code",
     "collapsed": false,
     "input": [
      "df = pd.DataFrame(x_sublists [0:], columns=header)\n",
      "df[['G', 'Min','Pts','Reb','Ast','Stl','Blk','To','Pf','Dreb','Oreb','eff']] = df[['G', 'Min','Pts','Reb','Ast','Stl','Blk','To','Pf','Dreb','Oreb','eff']].astype(float)"
     ],
     "language": "python",
     "metadata": {},
     "outputs": [],
     "prompt_number": 217
    },
    {
     "cell_type": "code",
     "collapsed": false,
     "input": [
      "df.mean()"
     ],
     "language": "python",
     "metadata": {},
     "outputs": [
      {
       "metadata": {},
       "output_type": "pyout",
       "prompt_number": 225,
       "text": [
        "G       57.258993\n",
        "Min     30.582014\n",
        "Pts     14.749640\n",
        "Reb      6.117266\n",
        "Ast      3.202878\n",
        "Stl      1.014388\n",
        "Blk      0.694964\n",
        "To       1.961871\n",
        "Pf       2.317986\n",
        "Dreb     4.546043\n",
        "Oreb     1.573381\n",
        "eff     16.612319\n",
        "dtype: float64"
       ]
      }
     ],
     "prompt_number": 225
    },
    {
     "cell_type": "code",
     "collapsed": false,
     "input": [],
     "language": "python",
     "metadata": {},
     "outputs": []
    }
   ],
   "metadata": {}
  }
 ]
}